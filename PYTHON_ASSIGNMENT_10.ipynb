{
 "cells": [
  {
   "cell_type": "markdown",
   "id": "9ebfcb49",
   "metadata": {},
   "source": [
    "1 . Create a function that takes the width, height and character and returns a\n",
    "picture frame as a 2D list.\n",
    "\n",
    "Examples\n",
    "\n",
    "get_frame(4, 5, &quot;#&quot;) ➞ [\\\n",
    "[&quot;####&quot;],\\\n",
    "[&quot;# #&quot;],\\\n",
    "[&quot;# #&quot;],\\\n",
    "[&quot;# #&quot;],\\\n",
    "[&quot;####&quot;]\\\n",
    "]\\\n",
    "\\# Frame is 4 characters wide and 5 characters tall.\n",
    "\n",
    "get_frame(10, 3,\"*\") ➞ [\\\n",
    "[\"**********\"],\\\n",
    "[&quot;* *&quot;],\\\n",
    "[&quot;**********&quot;]\\\n",
    "]\\\n",
    "\\# Frame is 10 characters and wide and 3 characters tall.\n",
    "\n",
    "get_frame(2, 5, &quot;0&quot;) ➞ &quot;invalid&quot;\\\n",
    "\\# Frame&#39;s width is not more than 2."
   ]
  },
  {
   "cell_type": "code",
   "execution_count": null,
   "id": "b8bb792a",
   "metadata": {},
   "outputs": [],
   "source": []
  },
  {
   "cell_type": "markdown",
   "id": "969087b7",
   "metadata": {},
   "source": [
    "2 . Write three functions:\n",
    "\n",
    "1 . boolean_and\n",
    "2 . boolean_or\n",
    "3 . boolean_xor\n",
    "\n",
    "hese functions should evaluate a list of True and False values, starting from\n",
    "the leftmost element and evaluating pairwise.\n",
    "\n",
    "Examples\n",
    "\n",
    "boolean_and([True, True, False, True]) ➞ False\\\n",
    "\\# [True, True, False, True] =&gt; [True, False, True] =&gt; [False, True] =&gt; False\n",
    "\n",
    "boolean_or([True, True, False, False]) ➞ True\\\n",
    "\\# [True, True, False, True] =&gt; [True, False, False] =&gt; [True, False] =&gt; True\n",
    "\n",
    "boolean_xor([True, True, False, False]) ➞ False\\\n",
    "\\# [True, True, False, False] =&gt; [False, False, False] =&gt; [False, False] =&gt;\n",
    "False"
   ]
  },
  {
   "cell_type": "code",
   "execution_count": null,
   "id": "c88caa21",
   "metadata": {},
   "outputs": [],
   "source": []
  },
  {
   "cell_type": "markdown",
   "id": "8877388d",
   "metadata": {},
   "source": [
    "3 . Create a function that creates a box based on dimension n.\n",
    "\n",
    "Examples\n",
    "\n",
    "make_box(5) ➞ [\\\n",
    "&quot;#####&quot;,\\\n",
    "&quot;# #&quot;,\\\n",
    "&quot;# #&quot;,\\\n",
    "&quot;# #&quot;,\\\n",
    "&quot;#####&quot;\\\n",
    "]\n",
    "\n",
    "make_box(3) ➞ [\\\n",
    "&quot;###&quot;,\\\n",
    "&quot;# #&quot;,\\\n",
    "&quot;###&quot;\\\n",
    "]\n",
    "\n",
    "make_box(2) ➞ [\\\n",
    "&quot;##&quot;,\\\n",
    "&quot;##&quot;\\\n",
    "]\n",
    "\n",
    "make_box(1) ➞ [\\\n",
    "&quot;#&quot;\\\n",
    "]"
   ]
  },
  {
   "cell_type": "code",
   "execution_count": null,
   "id": "f2f8e35b",
   "metadata": {},
   "outputs": [],
   "source": []
  },
  {
   "cell_type": "markdown",
   "id": "61f2570f",
   "metadata": {},
   "source": [
    "4 . Given a common phrase, return False if any individual word in the phrase\n",
    "contains duplicate letters. Return True otherwise.\n",
    "\n",
    "Examples\n",
    "\n",
    "no_duplicate_letters(&quot;Fortune favours the bold.&quot;) ➞ True\n",
    "\n",
    "no_duplicate_letters(&quot;You can lead a horse to water, but you can&#39;t make him\n",
    "drink.&quot;) ➞ True\n",
    "\n",
    "no_duplicate_letters(&quot;Look before you leap.&quot;) ➞ False\\\n",
    "\\# Duplicate letters in &quot;Look&quot; and &quot;before&quot;.\n",
    "\n",
    "no_duplicate_letters(&quot;An apple a day keeps the doctor away.&quot;) ➞ False\\\n",
    "\\# Duplicate letters in &quot;apple&quot;, &quot;keeps&quot;, &quot;doctor&quot;, and &quot;away&quot;."
   ]
  },
  {
   "cell_type": "code",
   "execution_count": null,
   "id": "14e6fed7",
   "metadata": {},
   "outputs": [],
   "source": []
  },
  {
   "cell_type": "markdown",
   "id": "9c2fa728",
   "metadata": {},
   "source": [
    "5 . Write a regular expression that will match the states that voted yes to\n",
    "President Trump&#39;s impeachment. You must use RegEx positive lookahead.\n",
    "\n",
    "Example\n",
    "\n",
    "txt = &quot;Texas = no, California = yes, Florida = yes, Michigan = no&quot;\\\n",
    "pattern = &quot;yourregularexpressionhere&quot;\n",
    "\n",
    "re.findall(pattern, txt) ➞ [&quot;California&quot;, &quot;Florida&quot;]"
   ]
  },
  {
   "cell_type": "code",
   "execution_count": null,
   "id": "7bea72c0",
   "metadata": {},
   "outputs": [],
   "source": []
  }
 ],
 "metadata": {
  "kernelspec": {
   "display_name": "Python 3 (ipykernel)",
   "language": "python",
   "name": "python3"
  },
  "language_info": {
   "codemirror_mode": {
    "name": "ipython",
    "version": 3
   },
   "file_extension": ".py",
   "mimetype": "text/x-python",
   "name": "python",
   "nbconvert_exporter": "python",
   "pygments_lexer": "ipython3",
   "version": "3.9.7"
  }
 },
 "nbformat": 4,
 "nbformat_minor": 5
}
