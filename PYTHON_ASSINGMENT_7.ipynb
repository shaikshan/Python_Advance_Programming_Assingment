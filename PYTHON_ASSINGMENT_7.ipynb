{
 "cells": [
  {
   "cell_type": "markdown",
   "id": "f2aaa7d5",
   "metadata": {},
   "source": [
    "1 . Write a function that counts how many concentric layers a rug.\n",
    "\n",
    "Examples\n",
    "\n",
    "count_layers([\\\n",
    "&quot;AAAA&quot;,\\\n",
    "&quot;ABBA&quot;,\\\n",
    "&quot;AAAA&quot;\\\n",
    "]) ➞ 2\n",
    "\n",
    "count_layers([\\\n",
    "&quot;AAAAAAAAA&quot;,\\\n",
    "&quot;ABBBBBBBA&quot;,\\\n",
    "&quot;ABBAAABBA&quot;,\\\n",
    "&quot;ABBBBBBBA&quot;,\\\n",
    "&quot;AAAAAAAAA&quot;\\\n",
    "]) ➞ 3\n",
    "\n",
    "count_layers([\\\n",
    "&quot;AAAAAAAAAAA&quot;,\\\n",
    "&quot;AABBBBBBBAA&quot;,\\\n",
    "&quot;AABCCCCCBAA&quot;,\\\n",
    "&quot;AABCAAACBAA&quot;,\\\n",
    "&quot;AABCADACBAA&quot;,\\\n",
    "&quot;AABCAAACBAA&quot;,\\\n",
    "&quot;AABCCCCCBAA&quot;,\\\n",
    "&quot;AABBBBBBBAA&quot;,\\\n",
    "&quot;AAAAAAAAAAA&quot;\\\n",
    "]) ➞ 5"
   ]
  },
  {
   "cell_type": "code",
   "execution_count": null,
   "id": "3be9aafb",
   "metadata": {},
   "outputs": [],
   "source": []
  },
  {
   "cell_type": "markdown",
   "id": "215e1815",
   "metadata": {},
   "source": [
    "2 . There are many different styles of music and many albums exhibit multiple\n",
    "styles. Create a function that takes a list of musical styles from albums and\n",
    "returns how many styles are unique.\n",
    "\n",
    "Examples\n",
    "\n",
    "unique_styles([\\\n",
    "&quot;Dub,Dancehall&quot;,\\\n",
    "&quot;Industrial,Heavy Metal&quot;,\\\n",
    "&quot;Techno,Dubstep&quot;,\\\n",
    "&quot;Synth-pop,Euro-Disco&quot;,\\\n",
    "&quot;Industrial,Techno,Minimal&quot;\\\n",
    "]) ➞ 9\n",
    "\n",
    "unique_styles([\\\n",
    "&quot;Soul&quot;,\\\n",
    "&quot;House,Folk&quot;,\\\n",
    "&quot;Trance,Downtempo,Big Beat,House&quot;,\\\n",
    "&quot;Deep House&quot;,\\\n",
    "&quot;Soul&quot;\\\n",
    "]) ➞ 7"
   ]
  },
  {
   "cell_type": "code",
   "execution_count": null,
   "id": "b8a75255",
   "metadata": {},
   "outputs": [],
   "source": []
  },
  {
   "cell_type": "markdown",
   "id": "cb09e118",
   "metadata": {},
   "source": [
    "3 . Create a function that finds a target number in a list of prime numbers.\n",
    "Implement a binary search algorithm in your function. The target number will\n",
    "be from 2 through 97. If the target is prime then return &quot;yes&quot; else return &quot;no&quot;.\n",
    "\n",
    "Examples\n",
    "\n",
    "primes = [2, 3, 5, 7, 11, 13, 17, 19, 23, 29, 31, 37, 41, 43, 47, 53, 59, 61, 67,\n",
    "71, 73, 79, 83, 89, 97]\n",
    "\n",
    "is_prime(primes, 3) ➞ &quot;yes&quot;\n",
    "\n",
    "is_prime(primes, 4) ➞ &quot;no&quot;\n",
    "\n",
    "is_prime(primes, 67) ➞ &quot;yes&quot;\n",
    "\n",
    "is_prime(primes, 36) ➞ &quot;no&quot;"
   ]
  },
  {
   "cell_type": "code",
   "execution_count": null,
   "id": "ce271eb3",
   "metadata": {},
   "outputs": [],
   "source": []
  },
  {
   "cell_type": "markdown",
   "id": "e6bdab17",
   "metadata": {},
   "source": [
    "4 . Create a function that takes in n, a, b and returns the number of positive\n",
    "values raised to the nth power that lie in the range [a, b], inclusive.\n",
    "\n",
    "Examples\n",
    "\n",
    "power_ranger(2, 49, 65) ➞ 2\n",
    "\\# 2 squares (n^2) lie between 49 and 65, 49 (7^2) and 64 (8^2)\n",
    "\n",
    "power_ranger(3, 1, 27) ➞ 3\n",
    "\\# 3 cubes (n^3) lie between 1 and 27, 1 (1^3), 8 (2^3) and 27 (3^3)\n",
    "\n",
    "power_ranger(10, 1, 5) ➞ 1\n",
    "\\# 1 value raised to the 10th power lies between 1 and 5, 1 (1^10)\n",
    "\n",
    "power_ranger(5, 31, 33) ➞ 1\n",
    "\n",
    "power_ranger(4, 250, 1300) ➞ 3"
   ]
  },
  {
   "cell_type": "code",
   "execution_count": null,
   "id": "edff640b",
   "metadata": {},
   "outputs": [],
   "source": []
  },
  {
   "cell_type": "markdown",
   "id": "8ab7ec09",
   "metadata": {},
   "source": [
    "5. Given a number, return the difference between the maximum and minimum\n",
    "numbers that can be formed when the digits are rearranged.\n",
    "\n",
    "Examples\n",
    "\n",
    "rearranged_difference(972882) ➞ 760833\n",
    "# 988722 - 227889 = 760833\n",
    "\n",
    "rearranged_difference(3320707) ➞ 7709823\n",
    "# 7733200 - 23377 = 7709823\n",
    "\n",
    "rearranged_difference(90010) ➞ 90981\n",
    "# 91000 - 19 = 90981"
   ]
  }
 ],
 "metadata": {
  "kernelspec": {
   "display_name": "Python 3 (ipykernel)",
   "language": "python",
   "name": "python3"
  },
  "language_info": {
   "codemirror_mode": {
    "name": "ipython",
    "version": 3
   },
   "file_extension": ".py",
   "mimetype": "text/x-python",
   "name": "python",
   "nbconvert_exporter": "python",
   "pygments_lexer": "ipython3",
   "version": "3.9.7"
  }
 },
 "nbformat": 4,
 "nbformat_minor": 5
}
